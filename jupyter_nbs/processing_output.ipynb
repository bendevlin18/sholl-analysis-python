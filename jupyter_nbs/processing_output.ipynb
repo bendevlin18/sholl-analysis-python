{
 "cells": [
  {
   "cell_type": "code",
   "execution_count": 1,
   "id": "3144d832-a39c-46b7-b8fa-157d4ea5e6b3",
   "metadata": {},
   "outputs": [],
   "source": [
    "import os\n",
    "import numpy as np\n",
    "import pandas as pd"
   ]
  },
  {
   "cell_type": "code",
   "execution_count": 2,
   "id": "6747c1c1-d7c8-4c6a-bf99-b1775e9cf412",
   "metadata": {},
   "outputs": [],
   "source": [
    "direc = '/Users/bendevlin/Desktop/completed_mgla_testing/sholl_output'"
   ]
  },
  {
   "cell_type": "code",
   "execution_count": 3,
   "id": "da1c4094-ed5e-4964-96dc-6e779c976b58",
   "metadata": {},
   "outputs": [
    {
     "data": {
      "text/plain": [
       "['C1-MD1rIba1-2_4_1_3MIP_Simple Segmentation-1FINAL.tifraw_intersections.csv',\n",
       " '.DS_Store',\n",
       " 'sholl_C1-MD1rIba1-2_2_4_2.28MIP_Simple Segmentation-1FINAL.tif.png',\n",
       " 'C1-MD1rIba1-2_4_2_2.52-2.28MIP_Simple Segmentation-1FINAL.tifraw_intersections.csv',\n",
       " 'sholl_C1-MD1rIba1-2_4_2_2.52-2.28MIP_Simple Segmentation-1FINAL.tif.png',\n",
       " 'sholl_C1-MD1rIba1-2_4_1_3MIP_Simple Segmentation-1FINAL.tif.png',\n",
       " 'C1-MD1rIba1-2_2_4_2.28MIP_Simple Segmentation-1FINAL.tifraw_intersections.csv']"
      ]
     },
     "execution_count": 3,
     "metadata": {},
     "output_type": "execute_result"
    }
   ],
   "source": [
    "os.listdir(direc)"
   ]
  },
  {
   "cell_type": "code",
   "execution_count": 4,
   "id": "6c560824-ef43-410a-9cde-dff0e18e23f0",
   "metadata": {},
   "outputs": [],
   "source": [
    "files = [file for file in os.listdir(direc) if '.csv' in file]"
   ]
  },
  {
   "cell_type": "code",
   "execution_count": 40,
   "id": "2367dd22-5dc7-4d97-a249-2fe1fafb21b3",
   "metadata": {
    "tags": []
   },
   "outputs": [],
   "source": [
    "final_df = pd.DataFrame(index = np.unique(pd.read_csv(os.path.join(direc, file), index_col = 0).index))\n",
    "endpoints = {}\n",
    "\n",
    "for file in files:\n",
    "    \n",
    "    ## importing the dataframe\n",
    "    df = pd.read_csv(os.path.join(direc, file), index_col = 0)\n",
    "    \n",
    "    ## extracting number of endpoints for the ramification calculation\n",
    "    endpoints[file] = df['endpoints'].values[0]\n",
    "    \n",
    "    ## extracting intersection count at each ring step\n",
    "    ## and saving it to the output dataframe\n",
    "    int_df = pd.DataFrame(np.unique(df.index, return_counts = True)).T.set_index(0).rename(columns = {1: file})\n",
    "    final_df = final_df.join(int_df)\n",
    "    \n",
    "epts_df = pd.DataFrame(endpoints, index = [0]).T.rename(columns = {0: 'endpoints'})\n",
    "    \n",
    "output_df = final_df.T.join(epts_df)"
   ]
  },
  {
   "cell_type": "code",
   "execution_count": 43,
   "id": "a9eaeb6e-2c13-4a25-aa5d-cfab8ee121fb",
   "metadata": {},
   "outputs": [],
   "source": [
    "output_df['ramification_index'] = output_df['endpoints'] / output_df[output_df.columns[0]]"
   ]
  },
  {
   "cell_type": "code",
   "execution_count": 44,
   "id": "3c05f6c2-1581-43be-98f4-30bf6b0b7484",
   "metadata": {},
   "outputs": [
    {
     "data": {
      "text/html": [
       "<div>\n",
       "<style scoped>\n",
       "    .dataframe tbody tr th:only-of-type {\n",
       "        vertical-align: middle;\n",
       "    }\n",
       "\n",
       "    .dataframe tbody tr th {\n",
       "        vertical-align: top;\n",
       "    }\n",
       "\n",
       "    .dataframe thead th {\n",
       "        text-align: right;\n",
       "    }\n",
       "</style>\n",
       "<table border=\"1\" class=\"dataframe\">\n",
       "  <thead>\n",
       "    <tr style=\"text-align: right;\">\n",
       "      <th></th>\n",
       "      <th>20</th>\n",
       "      <th>40</th>\n",
       "      <th>60</th>\n",
       "      <th>80</th>\n",
       "      <th>100</th>\n",
       "      <th>120</th>\n",
       "      <th>140</th>\n",
       "      <th>160</th>\n",
       "      <th>180</th>\n",
       "      <th>200</th>\n",
       "      <th>220</th>\n",
       "      <th>240</th>\n",
       "      <th>260</th>\n",
       "      <th>280</th>\n",
       "      <th>300</th>\n",
       "      <th>320</th>\n",
       "      <th>endpoints</th>\n",
       "      <th>ramification_index</th>\n",
       "    </tr>\n",
       "  </thead>\n",
       "  <tbody>\n",
       "    <tr>\n",
       "      <th>C1-MD1rIba1-2_4_1_3MIP_Simple Segmentation-1FINAL.tifraw_intersections.csv</th>\n",
       "      <td>4.0</td>\n",
       "      <td>5.0</td>\n",
       "      <td>9.0</td>\n",
       "      <td>6.0</td>\n",
       "      <td>8.0</td>\n",
       "      <td>6.0</td>\n",
       "      <td>6.0</td>\n",
       "      <td>4.0</td>\n",
       "      <td>4.0</td>\n",
       "      <td>3.0</td>\n",
       "      <td>3.0</td>\n",
       "      <td>3.0</td>\n",
       "      <td>2.0</td>\n",
       "      <td>2.0</td>\n",
       "      <td>1.0</td>\n",
       "      <td>NaN</td>\n",
       "      <td>16</td>\n",
       "      <td>4.000000</td>\n",
       "    </tr>\n",
       "    <tr>\n",
       "      <th>C1-MD1rIba1-2_4_2_2.52-2.28MIP_Simple Segmentation-1FINAL.tifraw_intersections.csv</th>\n",
       "      <td>3.0</td>\n",
       "      <td>3.0</td>\n",
       "      <td>3.0</td>\n",
       "      <td>5.0</td>\n",
       "      <td>6.0</td>\n",
       "      <td>6.0</td>\n",
       "      <td>12.0</td>\n",
       "      <td>14.0</td>\n",
       "      <td>11.0</td>\n",
       "      <td>6.0</td>\n",
       "      <td>6.0</td>\n",
       "      <td>5.0</td>\n",
       "      <td>6.0</td>\n",
       "      <td>3.0</td>\n",
       "      <td>3.0</td>\n",
       "      <td>1.0</td>\n",
       "      <td>32</td>\n",
       "      <td>10.666667</td>\n",
       "    </tr>\n",
       "    <tr>\n",
       "      <th>C1-MD1rIba1-2_2_4_2.28MIP_Simple Segmentation-1FINAL.tifraw_intersections.csv</th>\n",
       "      <td>3.0</td>\n",
       "      <td>5.0</td>\n",
       "      <td>5.0</td>\n",
       "      <td>5.0</td>\n",
       "      <td>7.0</td>\n",
       "      <td>9.0</td>\n",
       "      <td>10.0</td>\n",
       "      <td>10.0</td>\n",
       "      <td>9.0</td>\n",
       "      <td>11.0</td>\n",
       "      <td>9.0</td>\n",
       "      <td>8.0</td>\n",
       "      <td>7.0</td>\n",
       "      <td>3.0</td>\n",
       "      <td>1.0</td>\n",
       "      <td>1.0</td>\n",
       "      <td>29</td>\n",
       "      <td>9.666667</td>\n",
       "    </tr>\n",
       "  </tbody>\n",
       "</table>\n",
       "</div>"
      ],
      "text/plain": [
       "                                                     20   40   60   80  100  \\\n",
       "C1-MD1rIba1-2_4_1_3MIP_Simple Segmentation-1FIN...  4.0  5.0  9.0  6.0  8.0   \n",
       "C1-MD1rIba1-2_4_2_2.52-2.28MIP_Simple Segmentat...  3.0  3.0  3.0  5.0  6.0   \n",
       "C1-MD1rIba1-2_2_4_2.28MIP_Simple Segmentation-1...  3.0  5.0  5.0  5.0  7.0   \n",
       "\n",
       "                                                    120   140   160   180  \\\n",
       "C1-MD1rIba1-2_4_1_3MIP_Simple Segmentation-1FIN...  6.0   6.0   4.0   4.0   \n",
       "C1-MD1rIba1-2_4_2_2.52-2.28MIP_Simple Segmentat...  6.0  12.0  14.0  11.0   \n",
       "C1-MD1rIba1-2_2_4_2.28MIP_Simple Segmentation-1...  9.0  10.0  10.0   9.0   \n",
       "\n",
       "                                                     200  220  240  260  280  \\\n",
       "C1-MD1rIba1-2_4_1_3MIP_Simple Segmentation-1FIN...   3.0  3.0  3.0  2.0  2.0   \n",
       "C1-MD1rIba1-2_4_2_2.52-2.28MIP_Simple Segmentat...   6.0  6.0  5.0  6.0  3.0   \n",
       "C1-MD1rIba1-2_2_4_2.28MIP_Simple Segmentation-1...  11.0  9.0  8.0  7.0  3.0   \n",
       "\n",
       "                                                    300  320  endpoints  \\\n",
       "C1-MD1rIba1-2_4_1_3MIP_Simple Segmentation-1FIN...  1.0  NaN         16   \n",
       "C1-MD1rIba1-2_4_2_2.52-2.28MIP_Simple Segmentat...  3.0  1.0         32   \n",
       "C1-MD1rIba1-2_2_4_2.28MIP_Simple Segmentation-1...  1.0  1.0         29   \n",
       "\n",
       "                                                    ramification_index  \n",
       "C1-MD1rIba1-2_4_1_3MIP_Simple Segmentation-1FIN...            4.000000  \n",
       "C1-MD1rIba1-2_4_2_2.52-2.28MIP_Simple Segmentat...           10.666667  \n",
       "C1-MD1rIba1-2_2_4_2.28MIP_Simple Segmentation-1...            9.666667  "
      ]
     },
     "execution_count": 44,
     "metadata": {},
     "output_type": "execute_result"
    }
   ],
   "source": [
    "output_df"
   ]
  },
  {
   "cell_type": "code",
   "execution_count": null,
   "id": "135b0295-bfdd-467f-b9d8-30a5df9d5903",
   "metadata": {},
   "outputs": [],
   "source": []
  }
 ],
 "metadata": {
  "kernelspec": {
   "display_name": "Python 3",
   "language": "python",
   "name": "python3"
  },
  "language_info": {
   "codemirror_mode": {
    "name": "ipython",
    "version": 3
   },
   "file_extension": ".py",
   "mimetype": "text/x-python",
   "name": "python",
   "nbconvert_exporter": "python",
   "pygments_lexer": "ipython3",
   "version": "3.8.10"
  }
 },
 "nbformat": 4,
 "nbformat_minor": 5
}
